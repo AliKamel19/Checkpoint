{
 "cells": [
  {
   "cell_type": "markdown",
   "id": "e2727db5",
   "metadata": {},
   "source": [
    "Question 1 \n",
    "\n",
    "Write a Python program that multiplies all the items in a list.\n",
    "\n",
    "Sample list= [2, 3, 6]"
   ]
  },
  {
   "cell_type": "code",
   "execution_count": 12,
   "id": "18c1f5eb",
   "metadata": {},
   "outputs": [
    {
     "name": "stdout",
     "output_type": "stream",
     "text": [
      "36\n"
     ]
    }
   ],
   "source": [
    "def multiply_list(numbers):\n",
    "    result = 1\n",
    "    \n",
    "    \n",
    "    for number in numbers:\n",
    "        result *= number\n",
    "    return result\n",
    "\n",
    "my_list = [2, 3, 6]\n",
    "print(multiply_list(my_list))\n",
    "    "
   ]
  },
  {
   "cell_type": "markdown",
   "id": "4da89c10",
   "metadata": {},
   "source": [
    "Question 2\n",
    "\n",
    "Write a Python program to get a list, sorted in increasing order by the last element in each tuple, from a given list of non-empty tuples.\n",
    "\n",
    "Sample List : [(2, 5), (1, 2), (4, 4), (2, 3), (2, 1)]"
   ]
  },
  {
   "cell_type": "code",
   "execution_count": 46,
   "id": "0a6f4e80",
   "metadata": {},
   "outputs": [
    {
     "name": "stdout",
     "output_type": "stream",
     "text": [
      "sorted:\n",
      "[(2, 1), (1, 2), (2, 3), (4, 4), (2, 5)]\n"
     ]
    }
   ],
   "source": [
    "def last(a):\n",
    "    return a[-1]\n",
    "\n",
    "def sort(tuples):\n",
    "    return sorted(tuples, key=last)\n",
    "\n",
    "\n",
    "x= [(2, 5), (1, 2), (4, 4), (2, 3), (2, 1)]\n",
    "print(\"sorted:\")\n",
    "print(sort(x))"
   ]
  },
  {
   "cell_type": "markdown",
   "id": "c6a2b198",
   "metadata": {},
   "source": [
    "Question 3 \n",
    "\n",
    "Write a Python program that combines two dictionaries by adding values for common keys.\n",
    "\n",
    "d1 = {'a': 100, 'b': 200, 'c':300}\n",
    "\n",
    "d2 = {'a': 300, 'b': 200, 'd':400}"
   ]
  },
  {
   "cell_type": "code",
   "execution_count": 75,
   "id": "c4022ad4",
   "metadata": {},
   "outputs": [
    {
     "name": "stdout",
     "output_type": "stream",
     "text": [
      "{'c': 300, 'a': 400, 'd': 400, 'b': 400}\n"
     ]
    }
   ],
   "source": [
    "d1 = {'a': 100, 'b': 200, 'c':300}\n",
    "\n",
    "d2 = {'a': 300, 'b': 200, 'd':400}\n",
    "\n",
    "\n",
    "def combine_dict(d1, d2):    \n",
    "    result = {}\n",
    "    \n",
    "    \n",
    "    for key in d1.keys() | d2.keys():\n",
    "        result[key] = d1.get(key, 0) + d2.get(key, 0)\n",
    "        \n",
    "    return result\n",
    "\n",
    "\n",
    "\n",
    "result = combine_dict(d1, d2)\n",
    "print(result)"
   ]
  },
  {
   "cell_type": "markdown",
   "id": "2c9453ae",
   "metadata": {},
   "source": [
    "Question 4\n",
    "\n",
    "With a given integral number n, write a program to generate a dictionary that contains (i, i*i) so that is an integral number between 1 and n (both included). Then the program should print the dictionary. Suppose the following input is supplied to the program: 8"
   ]
  },
  {
   "cell_type": "code",
   "execution_count": 91,
   "id": "32425113",
   "metadata": {},
   "outputs": [
    {
     "name": "stdout",
     "output_type": "stream",
     "text": [
      "{1: 2, 2: 4, 3: 9, 4: 16, 5: 25, 6: 36, 7: 49, 8: 64}\n",
      "{1: 2, 2: 6, 3: 9, 4: 16, 5: 25, 6: 36, 7: 49, 8: 64}\n",
      "{1: 2, 2: 6, 3: 12, 4: 16, 5: 25, 6: 36, 7: 49, 8: 64}\n",
      "{1: 2, 2: 6, 3: 12, 4: 20, 5: 25, 6: 36, 7: 49, 8: 64}\n",
      "{1: 2, 2: 6, 3: 12, 4: 20, 5: 30, 6: 36, 7: 49, 8: 64}\n",
      "{1: 2, 2: 6, 3: 12, 4: 20, 5: 30, 6: 42, 7: 49, 8: 64}\n",
      "{1: 2, 2: 6, 3: 12, 4: 20, 5: 30, 6: 42, 7: 56, 8: 64}\n",
      "{1: 2, 2: 6, 3: 12, 4: 20, 5: 30, 6: 42, 7: 56, 8: 72}\n"
     ]
    }
   ],
   "source": [
    "n= 8 \n",
    "\n",
    "numbers= {1: 1, 2: 4, 3: 9, 4: 16, 5: 25, 6: 36, 7: 49, 8: 64}\n",
    "\n",
    "\n",
    "for i in range (1 , n+1):\n",
    "    numbers[i] = i + i *i\n",
    "    \n",
    "    print(numbers)"
   ]
  },
  {
   "cell_type": "markdown",
   "id": "6faac33a",
   "metadata": {},
   "source": [
    "Question 5\n",
    "\n",
    "Write a program to sort a tuple by its float element.\n",
    "\n",
    "For example: list= [('item1', '12.20'), ('item2', '15.10'), ('item3', '24.5')]"
   ]
  },
  {
   "cell_type": "code",
   "execution_count": 4,
   "id": "405a855b",
   "metadata": {},
   "outputs": [],
   "source": [
    "listt= [('item1', '12.20'), ('item2', '15.10'), ('item3', '24.5')]\n",
    "\n",
    "\n",
    "listt.sort(reverse=True)"
   ]
  },
  {
   "cell_type": "code",
   "execution_count": 5,
   "id": "c4885d26",
   "metadata": {},
   "outputs": [
    {
     "data": {
      "text/plain": [
       "[('item3', '24.5'), ('item2', '15.10'), ('item1', '12.20')]"
      ]
     },
     "execution_count": 5,
     "metadata": {},
     "output_type": "execute_result"
    }
   ],
   "source": [
    "listt"
   ]
  },
  {
   "cell_type": "markdown",
   "id": "888cbafc",
   "metadata": {},
   "source": [
    "Question 6\n",
    "\n",
    "Write a Python program to create a set.\n",
    "\n",
    "Examples : {0, 1, 2, 3, 4}\n",
    "\n",
    "Write a Python program to iteration over sets.\n",
    "\n",
    "Write a Python program to add members in a set and to remove items from a given set."
   ]
  },
  {
   "cell_type": "code",
   "execution_count": 12,
   "id": "e356b0f2",
   "metadata": {},
   "outputs": [
    {
     "name": "stdout",
     "output_type": "stream",
     "text": [
      "0\n",
      "1\n",
      "2\n",
      "3\n",
      "4\n",
      " set after adding members: {0, 1, 2, 3, 4, 'Mohamed', 'Ali', 'Omar'}\n",
      " set after removing members: {0, 1, 2, 3, 4, 'Mohamed', 'Ali'}\n"
     ]
    }
   ],
   "source": [
    "my_set= {0, 1, 2, 3, 4}\n",
    "\n",
    "for number in my_set:\n",
    "    print(number)\n",
    "    \n",
    "    \n",
    "# add a member in my_set:\n",
    "\n",
    "my_set.add(\"Mohamed\")\n",
    "my_set.add(\"Ali\")\n",
    "my_set.add(\"Omar\")\n",
    "\n",
    "\n",
    "print(f\" set after adding members: {my_set}\")\n",
    "\n",
    "\n",
    "# remove a member in my_set:\n",
    "\n",
    "my_set.remove(\"Omar\")\n",
    "\n",
    "print(f\" set after removing members: {my_set}\")"
   ]
  },
  {
   "cell_type": "code",
   "execution_count": null,
   "id": "9bcfbb00",
   "metadata": {},
   "outputs": [],
   "source": []
  },
  {
   "cell_type": "code",
   "execution_count": null,
   "id": "ed374c19",
   "metadata": {},
   "outputs": [],
   "source": []
  },
  {
   "cell_type": "code",
   "execution_count": null,
   "id": "0f2415f6",
   "metadata": {},
   "outputs": [],
   "source": []
  },
  {
   "cell_type": "code",
   "execution_count": null,
   "id": "60f159ec",
   "metadata": {},
   "outputs": [],
   "source": []
  },
  {
   "cell_type": "code",
   "execution_count": null,
   "id": "b851444e",
   "metadata": {},
   "outputs": [],
   "source": []
  },
  {
   "cell_type": "code",
   "execution_count": null,
   "id": "40a8832d",
   "metadata": {},
   "outputs": [],
   "source": []
  },
  {
   "cell_type": "code",
   "execution_count": null,
   "id": "e2d6d525",
   "metadata": {},
   "outputs": [],
   "source": []
  },
  {
   "cell_type": "code",
   "execution_count": null,
   "id": "13a723e9",
   "metadata": {},
   "outputs": [],
   "source": []
  }
 ],
 "metadata": {
  "kernelspec": {
   "display_name": "Python 3 (ipykernel)",
   "language": "python",
   "name": "python3"
  },
  "language_info": {
   "codemirror_mode": {
    "name": "ipython",
    "version": 3
   },
   "file_extension": ".py",
   "mimetype": "text/x-python",
   "name": "python",
   "nbconvert_exporter": "python",
   "pygments_lexer": "ipython3",
   "version": "3.11.3"
  }
 },
 "nbformat": 4,
 "nbformat_minor": 5
}
