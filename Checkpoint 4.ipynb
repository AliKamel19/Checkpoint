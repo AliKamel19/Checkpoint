{
 "cells": [
  {
   "cell_type": "markdown",
   "id": "aa8b06cc",
   "metadata": {},
   "source": [
    " To create a calculator app that can perform basic arithmetic operations.\n",
    "\n",
    "Description: \n",
    "\n",
    "This exercise involves creating a simple calculator app using Python. The app should be able to perform addition, subtraction, multiplication, and division operations. It will prompt the user to input two numbers and an arithmetic operator, then perform the corresponding operation on the numbers and return the result.\n",
    "\n",
    "Example :\n",
    "\n",
    "Input:\n",
    "\n",
    "Enter the first number: 10\n",
    "\n",
    "Enter the first number: 5\n",
    "\n",
    "Enter the operator (+, -, *, /): *\n",
    "\n",
    "Output:\n",
    "\n",
    "The result is: 50"
   ]
  },
  {
   "cell_type": "code",
   "execution_count": null,
   "id": "4912d821",
   "metadata": {},
   "outputs": [],
   "source": []
  },
  {
   "cell_type": "code",
   "execution_count": null,
   "id": "78202f10",
   "metadata": {},
   "outputs": [
    {
     "name": "stdout",
     "output_type": "stream",
     "text": [
      " Enter the first number: \n",
      "10\n",
      " Enter the second number: \n",
      "5\n",
      " Please enter operation type EX: +,-,*,/,  Quit \n",
      " *\n",
      "50.0\n"
     ]
    }
   ],
   "source": [
    "# This is a simple Calculator app for basic signs calulcations:\n",
    "\n",
    "\n",
    "while True:\n",
    "    \n",
    "    x= float(input(\" Enter the first number: \\n\"))\n",
    "    y= float(input(\" Enter the second number: \\n\"))\n",
    "    operation = input(\" Please enter operation type EX: +,-,*,/,  Quit \\n \")\n",
    "    \n",
    "\n",
    "    if operation == \"+\":\n",
    "        print(x+y)\n",
    "        \n",
    "        \n",
    "    elif operation == \"-\":\n",
    "        print(x-y)\n",
    "        \n",
    "    \n",
    "    elif operation == \"*\":\n",
    "        print(x*y)\n",
    "        \n",
    "        \n",
    "    elif operation == \"/\":\n",
    "        if y == 0:\n",
    "            print(\"ERROR: can't divide by Zero Dahh!!\")\n",
    "            y= float(input(\" Please unput second number \\ n\"))\n",
    "            print(x/y)\n",
    "            \n",
    "            \n",
    "    elif operation == 'Quit':\n",
    "        break\n"
   ]
  },
  {
   "cell_type": "code",
   "execution_count": null,
   "id": "9f0eba5f",
   "metadata": {},
   "outputs": [],
   "source": []
  },
  {
   "cell_type": "code",
   "execution_count": null,
   "id": "e8fba71c",
   "metadata": {},
   "outputs": [],
   "source": []
  },
  {
   "cell_type": "code",
   "execution_count": null,
   "id": "fd775aaf",
   "metadata": {},
   "outputs": [],
   "source": []
  },
  {
   "cell_type": "code",
   "execution_count": null,
   "id": "23f34a21",
   "metadata": {},
   "outputs": [],
   "source": []
  },
  {
   "cell_type": "code",
   "execution_count": null,
   "id": "1481cd03",
   "metadata": {},
   "outputs": [],
   "source": []
  },
  {
   "cell_type": "code",
   "execution_count": null,
   "id": "d4d42dfe",
   "metadata": {},
   "outputs": [],
   "source": []
  },
  {
   "cell_type": "code",
   "execution_count": null,
   "id": "c9977553",
   "metadata": {},
   "outputs": [],
   "source": []
  },
  {
   "cell_type": "code",
   "execution_count": null,
   "id": "d2c5efc3",
   "metadata": {},
   "outputs": [],
   "source": []
  },
  {
   "cell_type": "code",
   "execution_count": null,
   "id": "96c7cf0c",
   "metadata": {},
   "outputs": [],
   "source": []
  },
  {
   "cell_type": "code",
   "execution_count": null,
   "id": "2499d72b",
   "metadata": {},
   "outputs": [],
   "source": []
  },
  {
   "cell_type": "code",
   "execution_count": null,
   "id": "8bd998f9",
   "metadata": {},
   "outputs": [],
   "source": []
  },
  {
   "cell_type": "code",
   "execution_count": null,
   "id": "da4c89fd",
   "metadata": {},
   "outputs": [],
   "source": []
  }
 ],
 "metadata": {
  "kernelspec": {
   "display_name": "Python 3 (ipykernel)",
   "language": "python",
   "name": "python3"
  },
  "language_info": {
   "codemirror_mode": {
    "name": "ipython",
    "version": 3
   },
   "file_extension": ".py",
   "mimetype": "text/x-python",
   "name": "python",
   "nbconvert_exporter": "python",
   "pygments_lexer": "ipython3",
   "version": "3.11.3"
  }
 },
 "nbformat": 4,
 "nbformat_minor": 5
}
