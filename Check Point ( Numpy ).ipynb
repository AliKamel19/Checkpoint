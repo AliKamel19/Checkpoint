{
 "cells": [
  {
   "cell_type": "markdown",
   "id": "9ecc2a80",
   "metadata": {},
   "source": [
    "# Import the Numpy library.\n",
    "\n",
    "Ask the user to enter the number of students and the number of subjects.\n",
    "Create a Numpy array to store the marks of each student in each subject. The array should have the shape (number of students, number of subjects).\n",
    "Ask the user to enter the marks of each student in each subject.\n",
    "Calculate the total marks for each student using the sum() function of Numpy.\n",
    "Calculate the percentage for each student using the total marks and the formula: percentage = (total marks / (number of subjects * 100)) * 100\n",
    "Calculate the grade for each student using the percentage and the following grading system:\n",
    "90% or above: A+\n",
    "80% or above: A\n",
    "70% or above: B+\n",
    "60% or above: B\n",
    "50% or above: C\n",
    "below 50%: F\n",
    "Display the result for each student in a tabular format with columns for student name, total marks, percentage, and grade.\n"
   ]
  },
  {
   "cell_type": "code",
   "execution_count": null,
   "id": "5efff7c2",
   "metadata": {},
   "outputs": [],
   "source": [
    "import numpy as np\n",
    "\n",
    "\n",
    "num_students = int(input(\"Enter number of students: \"))\n",
    "num_subjects = int(input(\"Enter number of subjects: \"))\n",
    "\n",
    "\n",
    "marks = np.zeros((num_students, num_subjects))\n",
    "\n",
    "\n",
    "for i in range(num_students):\n",
    "    for o in range(num_subjects):\n",
    "        marks[i, o]= float(input(f\"Enter the marks for student {i+1} in subject {o+1}: \"))\n",
    "        \n",
    "\n",
    "total_marks = np.sum(marks, axis=1)\n",
    "\n",
    "percentages = (total_marks / (num_subjects * 100)) * 100\n",
    "\n",
    "\n",
    "\n",
    "grades = []    \n",
    "for percentage in percentages:\n",
    "    \n",
    "        if percentage >= 90:\n",
    "            grades.append('A+')\n",
    "            \n",
    "        elif percentage >= 80:\n",
    "            grades.append('A')\n",
    "            \n",
    "        elif percentage >= 70:\n",
    "            grades.append('B+')\n",
    "            \n",
    "        elif percentage >= 60:\n",
    "            grades.append('B')\n",
    "            \n",
    "        elif percentage >= 50:\n",
    "            grades.append('C')\n",
    "            \n",
    "        else:\n",
    "            grades.append('F')\n",
    "        \n",
    "        \n",
    "        \n",
    "print(\"\\nResults:\")\n",
    "print(\"Student\\tTotal Marks\\tPercentage\\tGrade\")\n",
    "for i in range(num_students):\n",
    "    print(f\"{i+1}\\t{total_marks[i]}\\t\\t{percentages[i]}%\\t\\t{grades[i]}\")\n",
    "         \n",
    "\n",
    "    "
   ]
  },
  {
   "cell_type": "code",
   "execution_count": null,
   "id": "babe7ed3",
   "metadata": {},
   "outputs": [],
   "source": []
  },
  {
   "cell_type": "code",
   "execution_count": null,
   "id": "42231c9c",
   "metadata": {},
   "outputs": [],
   "source": []
  },
  {
   "cell_type": "code",
   "execution_count": null,
   "id": "cd0982c8",
   "metadata": {},
   "outputs": [],
   "source": []
  },
  {
   "cell_type": "code",
   "execution_count": null,
   "id": "a65d1167",
   "metadata": {},
   "outputs": [],
   "source": []
  },
  {
   "cell_type": "code",
   "execution_count": null,
   "id": "90b4abab",
   "metadata": {},
   "outputs": [],
   "source": []
  },
  {
   "cell_type": "code",
   "execution_count": null,
   "id": "2805ae3d",
   "metadata": {},
   "outputs": [],
   "source": []
  },
  {
   "cell_type": "code",
   "execution_count": null,
   "id": "4ba58b79",
   "metadata": {},
   "outputs": [],
   "source": []
  },
  {
   "cell_type": "code",
   "execution_count": null,
   "id": "a05655ee",
   "metadata": {},
   "outputs": [],
   "source": []
  },
  {
   "cell_type": "code",
   "execution_count": null,
   "id": "f9d199d2",
   "metadata": {},
   "outputs": [],
   "source": []
  },
  {
   "cell_type": "code",
   "execution_count": null,
   "id": "c2e3ee55",
   "metadata": {},
   "outputs": [],
   "source": []
  }
 ],
 "metadata": {
  "kernelspec": {
   "display_name": "Python 3 (ipykernel)",
   "language": "python",
   "name": "python3"
  },
  "language_info": {
   "codemirror_mode": {
    "name": "ipython",
    "version": 3
   },
   "file_extension": ".py",
   "mimetype": "text/x-python",
   "name": "python",
   "nbconvert_exporter": "python",
   "pygments_lexer": "ipython3",
   "version": "3.11.3"
  }
 },
 "nbformat": 4,
 "nbformat_minor": 5
}
