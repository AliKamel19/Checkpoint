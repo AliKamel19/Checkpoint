{
 "cells": [
  {
   "cell_type": "markdown",
   "id": "03e479c2",
   "metadata": {},
   "source": [
    "# 1 Write a Python class named Point3D defined by x, y, and z. Define a method that returns (x, y ,z). This tells Python to represent this object in the following format: (x, y, z). Then create a variable named my_point containing a new instance of Point3D with x=1, y=2, and z=3 and print it."
   ]
  },
  {
   "cell_type": "code",
   "execution_count": 22,
   "id": "a8cb04de",
   "metadata": {},
   "outputs": [
    {
     "name": "stdout",
     "output_type": "stream",
     "text": [
      "(1, 2, 3)\n"
     ]
    }
   ],
   "source": [
    "class Point3D:\n",
    "    def __init__(self, x, y, z):\n",
    "        self.x = x\n",
    "        self.y = y\n",
    "        self.z = z\n",
    "\n",
    "    def __repr__(self):\n",
    "        return '({}, {}, {})'.format(self.x, self.y, self.z)\n",
    "\n",
    "my_point = Point3D(1, 2, 3)\n",
    "print(my_point)"
   ]
  },
  {
   "cell_type": "code",
   "execution_count": null,
   "id": "9fcf840d",
   "metadata": {},
   "outputs": [],
   "source": []
  },
  {
   "cell_type": "code",
   "execution_count": null,
   "id": "7760aea4",
   "metadata": {},
   "outputs": [],
   "source": []
  },
  {
   "cell_type": "code",
   "execution_count": null,
   "id": "cea0118d",
   "metadata": {},
   "outputs": [],
   "source": []
  },
  {
   "cell_type": "markdown",
   "id": "fbe2796c",
   "metadata": {},
   "source": [
    "Write a Python class named Circle defined by radius. Define a method that returns the area of the circle. This tells Python to represent this object in the following format: Area of the circle is: area. Then create a variable named my_circle containing a new instance of Circle with radius=5 and print it."
   ]
  },
  {
   "cell_type": "code",
   "execution_count": 46,
   "id": "23872706",
   "metadata": {},
   "outputs": [
    {
     "name": "stdout",
     "output_type": "stream",
     "text": [
      "(5)\n"
     ]
    }
   ],
   "source": [
    "# An example for me to understand more...:\n",
    "\n",
    "\n",
    "class Circle:\n",
    "    def __init__(self, radius):\n",
    "        self.radius= radius\n",
    "        \n",
    "    \n",
    "    def area(self):\n",
    "        return math.pi * (self.radius ** 2)\n",
    "    \n",
    "    \n",
    "    def __repr__(self):\n",
    "        return '({})'.format(self.radius)\n",
    "    \n",
    "my_circle= Circle(5)\n",
    "\n",
    "print(my_circle)"
   ]
  },
  {
   "cell_type": "code",
   "execution_count": null,
   "id": "677509fb",
   "metadata": {},
   "outputs": [],
   "source": []
  },
  {
   "cell_type": "code",
   "execution_count": null,
   "id": "12197a2d",
   "metadata": {},
   "outputs": [],
   "source": []
  },
  {
   "cell_type": "code",
   "execution_count": null,
   "id": "6d9d636c",
   "metadata": {},
   "outputs": [],
   "source": []
  },
  {
   "cell_type": "code",
   "execution_count": null,
   "id": "b5963838",
   "metadata": {},
   "outputs": [],
   "source": []
  },
  {
   "cell_type": "markdown",
   "id": "7aba6720",
   "metadata": {},
   "source": [
    "# 2 Write a Python class named Rectangle constructed by a length and width. Define two methods, area and perimeter, which will compute the area and the perimeter of the rectangle. Then create a variable named my_rectangle containing a new instance of Rectangle with width=3 and length = 4 and compute both area and perimeter ( the area is expected to be 3*4=12 and perimeter 2*(3+4)=14)."
   ]
  },
  {
   "cell_type": "code",
   "execution_count": 63,
   "id": "18201e39",
   "metadata": {},
   "outputs": [
    {
     "name": "stdout",
     "output_type": "stream",
     "text": [
      "Area  12\n",
      "Perimeter  14\n"
     ]
    }
   ],
   "source": [
    "class Rectangle:\n",
    "    def __init__(self, length, width):\n",
    "        self.length= length\n",
    "        self.width= width\n",
    "        \n",
    "    def area(self):\n",
    "        return self.length * self.width\n",
    "    \n",
    "    def perimeter(self):\n",
    "        return 2 *(self.length + self.width)\n",
    "    \n",
    "    \n",
    "    \n",
    "my_rectangle = Rectangle(3, 4)\n",
    "\n",
    "print('Area ', my_rectangle.area())\n",
    "print('Perimeter ', my_rectangle.perimeter())\n"
   ]
  },
  {
   "cell_type": "code",
   "execution_count": null,
   "id": "0839da12",
   "metadata": {},
   "outputs": [],
   "source": []
  },
  {
   "cell_type": "code",
   "execution_count": null,
   "id": "4bfe428a",
   "metadata": {},
   "outputs": [],
   "source": []
  },
  {
   "cell_type": "markdown",
   "id": "09c12bde",
   "metadata": {},
   "source": [
    "# 3 Write a Python  class named Circle constructed by its center O and radius r. Define two methods, area and perimeter, which will compute the area and the perimeter of the circle, and is Inside() method which allows you to test whether a point A(x, y) belongs to the circle C(O, r) or not."
   ]
  },
  {
   "cell_type": "code",
   "execution_count": 95,
   "id": "e101abe9",
   "metadata": {},
   "outputs": [
    {
     "ename": "AttributeError",
     "evalue": "'Circle' object has no attribute 'area'",
     "output_type": "error",
     "traceback": [
      "\u001b[1;31m---------------------------------------------------------------------------\u001b[0m",
      "\u001b[1;31mAttributeError\u001b[0m                            Traceback (most recent call last)",
      "Cell \u001b[1;32mIn[95], line 28\u001b[0m\n\u001b[0;32m     24\u001b[0m         \u001b[38;5;28;01mreturn\u001b[39;00m distance \u001b[38;5;241m<\u001b[39m\u001b[38;5;241m=\u001b[39m \u001b[38;5;28mself\u001b[39m\u001b[38;5;241m.\u001b[39mr\n\u001b[0;32m     26\u001b[0m my_circle \u001b[38;5;241m=\u001b[39m Circle((\u001b[38;5;241m0\u001b[39m, \u001b[38;5;241m0\u001b[39m), \u001b[38;5;241m5\u001b[39m)\n\u001b[1;32m---> 28\u001b[0m \u001b[38;5;28mprint\u001b[39m(\u001b[38;5;124m\"\u001b[39m\u001b[38;5;124mArea: \u001b[39m\u001b[38;5;124m\"\u001b[39m, my_circle\u001b[38;5;241m.\u001b[39marea())\n\u001b[0;32m     29\u001b[0m \u001b[38;5;28mprint\u001b[39m(\u001b[38;5;124m\"\u001b[39m\u001b[38;5;124mPerimeter: \u001b[39m\u001b[38;5;124m\"\u001b[39m, my_circle\u001b[38;5;241m.\u001b[39mperimeter())\n\u001b[0;32m     31\u001b[0m A \u001b[38;5;241m=\u001b[39m (\u001b[38;5;241m3\u001b[39m, \u001b[38;5;241m3\u001b[39m)\n",
      "\u001b[1;31mAttributeError\u001b[0m: 'Circle' object has no attribute 'area'"
     ]
    }
   ],
   "source": [
    "import math\n",
    "\n",
    "\n",
    "class Circle:\n",
    "    def __init__(self, o, r):\n",
    "        self.o= o\n",
    "        self.r= r\n",
    "        \n",
    "    \n",
    "    def Area(self):\n",
    "        return math.pi * (self.r ** 2)\n",
    "    \n",
    "    \n",
    "    def Perimeter(self):\n",
    "        return 2* math.pi * self.r\n",
    "        \n",
    "        \n",
    "    def is_inside(self, A):\n",
    "        distance = math.sqrt((self.O[0] - A[0]) ** 2 + (self.O[1] - A[1]) ** 2)\n",
    "        \n",
    "        \n",
    "        return distance <= self.r\n",
    "\n",
    "my_circle = Circle((0, 0), 5)\n",
    "\n",
    "print(\"Area: \", my_circle.area())\n",
    "print(\"Perimeter: \", my_circle.perimeter())\n",
    "\n",
    "A = (3, 3)\n",
    "print(\"Is the point A inside the circle? \", my_circle.is_inside(A))"
   ]
  },
  {
   "cell_type": "code",
   "execution_count": null,
   "id": "a08d0e8d",
   "metadata": {},
   "outputs": [],
   "source": []
  },
  {
   "cell_type": "code",
   "execution_count": null,
   "id": "5d210e9c",
   "metadata": {},
   "outputs": [],
   "source": []
  },
  {
   "cell_type": "code",
   "execution_count": null,
   "id": "28ca29d4",
   "metadata": {},
   "outputs": [],
   "source": []
  },
  {
   "cell_type": "markdown",
   "id": "aa7b2c64",
   "metadata": {},
   "source": [
    "# 4 Suppose we want to model a bank account with support for deposit and withdraw operations. Let’s create a Python class named Bank defined by its balance. Define two methods, deposit and withdraw, to compute the new amount of each operation."
   ]
  },
  {
   "cell_type": "code",
   "execution_count": 97,
   "id": "c7a3a75b",
   "metadata": {},
   "outputs": [
    {
     "name": "stdout",
     "output_type": "stream",
     "text": [
      "Balance after deposit:  2500\n",
      "Balance after withdrawal:  1800\n"
     ]
    }
   ],
   "source": [
    "class Bank:\n",
    "    def __init__(self, balance =0):\n",
    "        self.balance= balance\n",
    "        \n",
    "        \n",
    "    def deposit(self, amount):\n",
    "        self.balance += amount\n",
    "        return self.balance\n",
    "    \n",
    "    \n",
    "    def withdraw(self, amount):\n",
    "        if amount > self.balance:\n",
    "            print(\" Insufficent Balance\")\n",
    "            \n",
    "        else:\n",
    "            self.balance -= amount\n",
    "            return self.balance\n",
    "        \n",
    "        \n",
    "my_account= Bank(1000)\n",
    "\n",
    "\n",
    "print(\"Balance after deposit: \", my_account.deposit(1500))\n",
    "\n",
    "print(\"Balance after withdrawal: \", my_account.withdraw(700))\n"
   ]
  },
  {
   "cell_type": "code",
   "execution_count": null,
   "id": "038f0750",
   "metadata": {},
   "outputs": [],
   "source": []
  },
  {
   "cell_type": "code",
   "execution_count": null,
   "id": "1d413574",
   "metadata": {},
   "outputs": [],
   "source": []
  },
  {
   "cell_type": "code",
   "execution_count": null,
   "id": "61a1368c",
   "metadata": {},
   "outputs": [],
   "source": []
  },
  {
   "cell_type": "code",
   "execution_count": null,
   "id": "b23f6a07",
   "metadata": {},
   "outputs": [],
   "source": []
  }
 ],
 "metadata": {
  "kernelspec": {
   "display_name": "Python 3 (ipykernel)",
   "language": "python",
   "name": "python3"
  },
  "language_info": {
   "codemirror_mode": {
    "name": "ipython",
    "version": 3
   },
   "file_extension": ".py",
   "mimetype": "text/x-python",
   "name": "python",
   "nbconvert_exporter": "python",
   "pygments_lexer": "ipython3",
   "version": "3.11.3"
  }
 },
 "nbformat": 4,
 "nbformat_minor": 5
}
